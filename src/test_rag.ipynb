{
 "cells": [
  {
   "cell_type": "code",
   "execution_count": 1,
   "metadata": {},
   "outputs": [],
   "source": [
    "from inference_engine.openai import OpenAIInferenceEngine\n",
    "\n",
    "model = 'gpt-4o'\n",
    "engine = OpenAIInferenceEngine(model)"
   ]
  },
  {
   "cell_type": "code",
   "execution_count": 9,
   "metadata": {},
   "outputs": [
    {
     "name": "stdout",
     "output_type": "stream",
     "text": [
      "要將腳墊固定到位，請按照以下步驟操作：\n",
      "\n",
      "1. 使用專為與您的車輛型號和年份相同的車輛設計的腳墊。\n",
      "2. 將固定鉤（夾子）插入腳墊的孔眼中。\n",
      "3. 轉動每個固定鉤（夾子）的上部旋鈕，以將腳墊固定到位。\n"
     ]
    }
   ],
   "source": [
    "context = '''\n",
    "Use only floor mats designed specifically for vehicles of the same model and model year as your vehicle. Fix them securely in place onto the carpet.\n",
    "1. Insert the retaining hooks (clips) into the floor mat eye- lets.\n",
    "2. Turn the upper knob of each retaining hook (clip) to secure the floor mats in place.\n",
    "'''\n",
    "\n",
    "system_prompt = f'''\n",
    "You are a helpful assistant. \n",
    "Use the following context as your learned knowledge, inside <context></context> XML tags.\n",
    "<context>\n",
    "{context}\n",
    "</context>\n",
    "When answer to user:\n",
    "- If you don't know, just say that you don't know.\n",
    "- If you don't know when you are not sure, ask for clarification.\n",
    "Avoid mentioning that you obtained the information from the context.\n",
    "And answer according to the language of the user's question.\n",
    "'''.strip()\n",
    "\n",
    "question = '如何將腳墊固定到位'\n",
    "\n",
    "messages = [\n",
    "    {\"role\": \"system\", \"content\": system_prompt},\n",
    "    {\"role\": \"user\", \"content\": question}\n",
    "]\n",
    "\n",
    "response = engine.chat_completions(messages)\n",
    "print(response.choices[0].message.content)"
   ]
  },
  {
   "cell_type": "code",
   "execution_count": null,
   "metadata": {},
   "outputs": [],
   "source": []
  }
 ],
 "metadata": {
  "kernelspec": {
   "display_name": "toyota-rag",
   "language": "python",
   "name": "python3"
  },
  "language_info": {
   "codemirror_mode": {
    "name": "ipython",
    "version": 3
   },
   "file_extension": ".py",
   "mimetype": "text/x-python",
   "name": "python",
   "nbconvert_exporter": "python",
   "pygments_lexer": "ipython3",
   "version": "3.11.10"
  }
 },
 "nbformat": 4,
 "nbformat_minor": 2
}
