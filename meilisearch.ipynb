{
 "cells": [
  {
   "cell_type": "code",
   "execution_count": 2,
   "metadata": {},
   "outputs": [
    {
     "data": {
      "text/plain": [
       "TaskInfo(task_uid=4, index_uid='movies', status='enqueued', type='documentAdditionOrUpdate', enqueued_at=datetime.datetime(2024, 10, 21, 15, 0, 31, 666387))"
      ]
     },
     "execution_count": 2,
     "metadata": {},
     "output_type": "execute_result"
    }
   ],
   "source": [
    "# from meilisearch import Client\n",
    "\n",
    "\n",
    "import meilisearch\n",
    "import json\n",
    "\n",
    "client = meilisearch.Client('http://localhost:7700', 'foo')\n",
    "\n",
    "json_file = open('./source/movies.json', encoding='utf-8')\n",
    "movies = json.load(json_file)\n",
    "client.index('movies').add_documents(movies)"
   ]
  },
  {
   "cell_type": "code",
   "execution_count": 3,
   "metadata": {},
   "outputs": [],
   "source": [
    "# client.index('movies').search('botman')"
   ]
  },
  {
   "cell_type": "code",
   "execution_count": 20,
   "metadata": {},
   "outputs": [],
   "source": [
    "# client.index('movies')"
   ]
  },
  {
   "cell_type": "code",
   "execution_count": 23,
   "metadata": {},
   "outputs": [
    {
     "data": {
      "text/plain": [
       "<Response [200]>"
      ]
     },
     "execution_count": 23,
     "metadata": {},
     "output_type": "execute_result"
    }
   ],
   "source": [
    "import requests\n",
    "\n",
    "master_key = 'foo'\n",
    "response = requests.get(\n",
    "    'http://localhost:7700/tasks/22',\n",
    "    headers = {\n",
    "        'Content-Type': 'application/json',\n",
    "        'Authorization': f'Bearer {master_key}'\n",
    "    }\n",
    ")\n",
    "response"
   ]
  },
  {
   "cell_type": "code",
   "execution_count": 24,
   "metadata": {},
   "outputs": [
    {
     "data": {
      "text/plain": [
       "{'uid': 22,\n",
       " 'indexUid': 'movies',\n",
       " 'status': 'enqueued',\n",
       " 'type': 'settingsUpdate',\n",
       " 'canceledBy': None,\n",
       " 'details': {'embedders': {'default': {'source': 'huggingFace',\n",
       "    'model': 'BAAI/bge-base-en-v1.5',\n",
       "    'documentTemplate': 'A movie titled {{doc.title}} whose description starts with {{doc.overview|truncatewords: 20}}'}}},\n",
       " 'error': None,\n",
       " 'duration': None,\n",
       " 'enqueuedAt': '2024-10-21T15:45:22.432764541Z',\n",
       " 'startedAt': None,\n",
       " 'finishedAt': None}"
      ]
     },
     "execution_count": 24,
     "metadata": {},
     "output_type": "execute_result"
    }
   ],
   "source": [
    "client.get_task(1)"
   ]
  },
  {
   "cell_type": "code",
   "execution_count": null,
   "metadata": {},
   "outputs": [],
   "source": []
  }
 ],
 "metadata": {
  "kernelspec": {
   "display_name": "toyota-rag",
   "language": "python",
   "name": "python3"
  },
  "language_info": {
   "codemirror_mode": {
    "name": "ipython",
    "version": 3
   },
   "file_extension": ".py",
   "mimetype": "text/x-python",
   "name": "python",
   "nbconvert_exporter": "python",
   "pygments_lexer": "ipython3",
   "version": "3.11.10"
  }
 },
 "nbformat": 4,
 "nbformat_minor": 2
}
